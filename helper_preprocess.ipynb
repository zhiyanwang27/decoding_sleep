{
 "cells": [
  {
   "cell_type": "code",
   "execution_count": 1,
   "metadata": {},
   "outputs": [],
   "source": [
    "import mne\n",
    "import numpy as np\n",
    "import matplotlib as plt\n",
    "import pandas as pd\n",
    "import os"
   ]
  },
  {
   "cell_type": "code",
   "execution_count": 2,
   "metadata": {},
   "outputs": [],
   "source": [
    "# define path\n",
    "global project_path, eeg_path, data_path, label_path, post_fix, sampling\n",
    "project_path = '/Volumes/CLPS_Watanabe_Lab/users/Zhiyan/SleepDecoding/'\n",
    "eeg_path = 'Experiment/sbj/'\n",
    "data_path = 'EEG/raw/'\n",
    "label_path = 'EEG/label/'\n",
    "post_fix = '_reref_01100.vhdr'\n",
    "subjects = ['sldcd01']\n",
    "naps = ['nap2'] #%, 'nap3']\n",
    "sampling = 500 # hz"
   ]
  },
  {
   "cell_type": "code",
   "execution_count": 3,
   "metadata": {},
   "outputs": [],
   "source": [
    "# define the function for loading participants EEG raw data \n",
    "def load_parse_eeg(SUB, NAP):\n",
    "    fn_path = project_path +  eeg_path + SUB + '/' + NAP + '/' +  data_path + SUB + NAP + post_fix\n",
    "    raw = mne.io.read_raw_brainvision(fn_path, eog = ('HEOG', 'VEOG'), preload=True)\n",
    "    eeg_pick = raw.copy().pick_types(eeg = True)\n",
    "    # pick channels \n",
    "    eog_pick = raw.copy().pick_types(eeg = False, eog = True)\n",
    "    emg_pick =raw.copy().pick_types(eeg = False, eog = False, misc = True)\n",
    "    return eeg_pick, eog_pick, emg_pick"
   ]
  },
  {
   "cell_type": "code",
   "execution_count": null,
   "metadata": {},
   "outputs": [],
   "source": []
  }
 ],
 "metadata": {
  "kernelspec": {
   "display_name": "mne",
   "language": "python",
   "name": "mne"
  },
  "language_info": {
   "codemirror_mode": {
    "name": "ipython",
    "version": 3
   },
   "file_extension": ".py",
   "mimetype": "text/x-python",
   "name": "python",
   "nbconvert_exporter": "python",
   "pygments_lexer": "ipython3",
   "version": "3.7.4"
  }
 },
 "nbformat": 4,
 "nbformat_minor": 2
}
