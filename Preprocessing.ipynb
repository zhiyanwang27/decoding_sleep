{
 "cells": [
  {
   "cell_type": "code",
   "execution_count": 2,
   "metadata": {},
   "outputs": [],
   "source": [
    "import mne\n",
    "import numpy as np\n",
    "import matplotlib as plt\n",
    "import pandas as pd\n",
    "import os"
   ]
  },
  {
   "cell_type": "code",
   "execution_count": 29,
   "metadata": {},
   "outputs": [],
   "source": [
    "# define path\n",
    "global project_path, eeg_path, data_path, label_path, post_fix, sampling\n",
    "project_path = '/Volumes/CLPS_Watanabe_Lab/users/Zhiyan/SleepDecoding/'\n",
    "eeg_path = 'Experiment/sbj/'\n",
    "data_path = 'EEG/raw/'\n",
    "label_path = 'EEG/label/'\n",
    "post_fix = '_reref_01100.vhdr'\n",
    "subjects = ['sldcd01']\n",
    "naps = ['nap2'] #%, 'nap3']\n",
    "sampling = 500 # hz\n",
    "\n"
   ]
  },
  {
   "cell_type": "code",
   "execution_count": 28,
   "metadata": {},
   "outputs": [
    {
     "name": "stdout",
     "output_type": "stream",
     "text": [
      "Extracting parameters from /Volumes/CLPS_Watanabe_Lab/users/Zhiyan/SleepDecoding/Experiment/sbj/sldcd01/nap2/EEG/raw/sldcd01nap2_reref_01100.vhdr...\n",
      "Setting channel info structure...\n",
      "Reading 0 ... 2711898  =      0.000 ...  5423.796 secs...\n"
     ]
    },
    {
     "name": "stderr",
     "output_type": "stream",
     "text": [
      "<ipython-input-25-1a062669d1e0>:4: RuntimeWarning: No coordinate information found for channels ['EMG']. Setting channel types to misc. To avoid this warning, set channel types explicitly.\n",
      "  raw = mne.io.read_raw_brainvision(fn_path, eog = ('HEOG', 'VEOG'), preload=True)\n"
     ]
    },
    {
     "name": "stdout",
     "output_type": "stream",
     "text": [
      "DigMontage is a superset of info. 3 in DigMontage will be ignored. The ignored channels are: {'EMG', 'VEOG', 'HEOG'}\n"
     ]
    },
    {
     "name": "stderr",
     "output_type": "stream",
     "text": [
      "<ipython-input-25-1a062669d1e0>:4: DeprecationWarning: The `montage` parameter from `read_raw_brainvision` is deprecated and will be removed  in version 0.20. Use  raw.set_montage(montage) instead.\n",
      "  raw = mne.io.read_raw_brainvision(fn_path, eog = ('HEOG', 'VEOG'), preload=True)\n"
     ]
    }
   ],
   "source": [
    "# start the loop for processing participants \n",
    "# for SUB in subjects:\n",
    "#     for NAP in naps:\n",
    "SUB = 'sldcd01'\n",
    "NAP = 'nap2'\n",
    "eeg_s, eog_s, emg_s = load_parse_eeg(SUB, NAP)\n",
    "\n",
    "        "
   ]
  },
  {
   "cell_type": "code",
   "execution_count": 32,
   "metadata": {},
   "outputs": [
    {
     "data": {
      "text/plain": [
       "['Fp1',\n",
       " 'F3',\n",
       " 'F7',\n",
       " 'FC1',\n",
       " 'FC5',\n",
       " 'C3',\n",
       " 'T7',\n",
       " 'P5',\n",
       " 'PO3',\n",
       " 'TP9',\n",
       " 'P3',\n",
       " 'P7',\n",
       " 'O1',\n",
       " 'PO7',\n",
       " 'Fp2',\n",
       " 'F4',\n",
       " 'F8',\n",
       " 'FC2',\n",
       " 'FC6',\n",
       " 'C4',\n",
       " 'T8',\n",
       " 'P6',\n",
       " 'PO4',\n",
       " 'TP10',\n",
       " 'P4',\n",
       " 'P8',\n",
       " 'O2',\n",
       " 'PO8',\n",
       " 'Fpz',\n",
       " 'Cz',\n",
       " 'Pz',\n",
       " 'Oz',\n",
       " 'Fz']"
      ]
     },
     "execution_count": 32,
     "metadata": {},
     "output_type": "execute_result"
    }
   ],
   "source": [
    "# reorganize the data to form a data frame so that each 30 seconds will be a separate data \n",
    "eeg_s.ch_names"
   ]
  },
  {
   "cell_type": "code",
   "execution_count": 25,
   "metadata": {},
   "outputs": [],
   "source": []
  },
  {
   "cell_type": "code",
   "execution_count": null,
   "metadata": {},
   "outputs": [],
   "source": [
    "load_parse_eeg('sldcd01', 'nap2')"
   ]
  },
  {
   "cell_type": "code",
   "execution_count": null,
   "metadata": {},
   "outputs": [],
   "source": []
  }
 ],
 "metadata": {
  "kernelspec": {
   "display_name": "mne",
   "language": "python",
   "name": "mne"
  },
  "language_info": {
   "codemirror_mode": {
    "name": "ipython",
    "version": 3
   },
   "file_extension": ".py",
   "mimetype": "text/x-python",
   "name": "python",
   "nbconvert_exporter": "python",
   "pygments_lexer": "ipython3",
   "version": "3.7.4"
  }
 },
 "nbformat": 4,
 "nbformat_minor": 2
}
