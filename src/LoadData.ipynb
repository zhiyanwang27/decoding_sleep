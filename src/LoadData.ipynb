{
 "cells": [
  {
   "cell_type": "code",
   "execution_count": 9,
   "metadata": {},
   "outputs": [],
   "source": [
    "\n",
    "import mne\n",
    "import numpy as np\n",
    "import matplotlib as plt\n",
    "import pandas as pd\n",
    "import os\n",
    "import scipy.io"
   ]
  },
  {
   "cell_type": "code",
   "execution_count": 10,
   "metadata": {},
   "outputs": [],
   "source": [
    "# define path\n",
    "global project_path, eeg_path, data_path, label_path, post_fix, sampling\n",
    "project_path = '/Volumes/CLPS_Watanabe_Lab/users/Zhiyan/SleepDecoding/'\n",
    "eeg_path = 'Experiment/sbj/'\n",
    "data_path = 'EEG/raw/'\n",
    "label_path = 'label/'\n",
    "post_fix = '_reref_01100.vhdr'\n",
    "subjects = ['sldcd01', 'sldcd03', 'sldcd05','sldcd06']\n",
    "naps = ['nap2'] #%, 'nap3']\n",
    "sampling = 500 # hz\n",
    "\n"
   ]
  },
  {
   "cell_type": "code",
   "execution_count": 11,
   "metadata": {},
   "outputs": [],
   "source": [
    "# define eeg parameters \n",
    "len_epochs = 30 # [s]\n",
    "num_ch = 36"
   ]
  },
  {
   "cell_type": "code",
   "execution_count": 12,
   "metadata": {},
   "outputs": [],
   "source": [
    "def load_label_raw(SUB, NAP):\n",
    "    fn_path = project_path +  eeg_path + SUB + '/' + NAP + '/' +  label_path +  'stageMat_' + SUB + '_' + NAP \n",
    "    label = scipy.io.loadmat(fn_path)\n",
    "    label = label['stageMat']\n",
    "    return label"
   ]
  },
  {
   "cell_type": "code",
   "execution_count": 13,
   "metadata": {},
   "outputs": [],
   "source": [
    "def load_bad_ch(SUB, NAP):\n",
    "    fn_path = project_path +  eeg_path + SUB + '/' + NAP + '/' +  label_path + SUB + '_' + NAP + '_bad' + '.txt'\n",
    "    bad = pd.read_csv(fn_path, sep=\" \", header = None)\n",
    "    return set(bad.iloc[:,0])\n"
   ]
  },
  {
   "cell_type": "code",
   "execution_count": 16,
   "metadata": {},
   "outputs": [],
   "source": [
    "def load_parse_eeg(SUB, NAP):\n",
    "    fn_path = project_path +  eeg_path + SUB + '/' + NAP + '/' +  data_path + SUB + NAP + post_fix\n",
    "    raw = mne.io.read_raw_brainvision(fn_path, eog = ('HEOG', 'VEOG'), preload=True)\n",
    "    eeg_pick = raw.copy().pick_types(eeg = True, eog = True, misc = True)\n",
    "    # pick channels \n",
    "    eog_pick = raw.copy().pick_types(eeg = False, eog = True)\n",
    "    emg_pick =raw.copy().pick_types(eeg = False, eog = False, misc = True)\n",
    "    return eeg_pick, eog_pick, emg_pick"
   ]
  },
  {
   "cell_type": "code",
   "execution_count": 17,
   "metadata": {},
   "outputs": [
    {
     "name": "stdout",
     "output_type": "stream",
     "text": [
      "sldcd01_nap2\n",
      "Extracting parameters from /Volumes/CLPS_Watanabe_Lab/users/Zhiyan/SleepDecoding/Experiment/sbj/sldcd01/nap2/EEG/raw/sldcd01nap2_reref_01100.vhdr...\n",
      "Setting channel info structure...\n",
      "Reading 0 ... 2711898  =      0.000 ...  5423.796 secs...\n"
     ]
    },
    {
     "name": "stderr",
     "output_type": "stream",
     "text": [
      "<ipython-input-16-2decfd8c57d9>:3: RuntimeWarning: No coordinate information found for channels ['EMG']. Setting channel types to misc. To avoid this warning, set channel types explicitly.\n",
      "  raw = mne.io.read_raw_brainvision(fn_path, eog = ('HEOG', 'VEOG'), preload=True)\n"
     ]
    },
    {
     "name": "stdout",
     "output_type": "stream",
     "text": [
      "DigMontage is a superset of info. 3 in DigMontage will be ignored. The ignored channels are: {'EMG', 'VEOG', 'HEOG'}\n"
     ]
    },
    {
     "name": "stderr",
     "output_type": "stream",
     "text": [
      "<ipython-input-16-2decfd8c57d9>:3: DeprecationWarning: The `montage` parameter from `read_raw_brainvision` is deprecated and will be removed  in version 0.20. Use  raw.set_montage(montage) instead.\n",
      "  raw = mne.io.read_raw_brainvision(fn_path, eog = ('HEOG', 'VEOG'), preload=True)\n"
     ]
    },
    {
     "name": "stdout",
     "output_type": "stream",
     "text": [
      "Converting \"time\" to \"<class 'numpy.int64'>\"...\n",
      "Converting \"time\" to \"<class 'numpy.int64'>\"...\n",
      "Converting \"time\" to \"<class 'numpy.int64'>\"...\n",
      "sldcd03_nap2\n",
      "Extracting parameters from /Volumes/CLPS_Watanabe_Lab/users/Zhiyan/SleepDecoding/Experiment/sbj/sldcd03/nap2/EEG/raw/sldcd03nap2_reref_01100.vhdr...\n",
      "Setting channel info structure...\n",
      "Reading 0 ... 2714879  =      0.000 ...  5429.758 secs...\n"
     ]
    },
    {
     "name": "stderr",
     "output_type": "stream",
     "text": [
      "<ipython-input-16-2decfd8c57d9>:3: RuntimeWarning: No coordinate information found for channels ['EMG']. Setting channel types to misc. To avoid this warning, set channel types explicitly.\n",
      "  raw = mne.io.read_raw_brainvision(fn_path, eog = ('HEOG', 'VEOG'), preload=True)\n"
     ]
    },
    {
     "name": "stdout",
     "output_type": "stream",
     "text": [
      "DigMontage is a superset of info. 3 in DigMontage will be ignored. The ignored channels are: {'EMG', 'VEOG', 'HEOG'}\n"
     ]
    },
    {
     "name": "stderr",
     "output_type": "stream",
     "text": [
      "<ipython-input-16-2decfd8c57d9>:3: DeprecationWarning: The `montage` parameter from `read_raw_brainvision` is deprecated and will be removed  in version 0.20. Use  raw.set_montage(montage) instead.\n",
      "  raw = mne.io.read_raw_brainvision(fn_path, eog = ('HEOG', 'VEOG'), preload=True)\n"
     ]
    },
    {
     "name": "stdout",
     "output_type": "stream",
     "text": [
      "Converting \"time\" to \"<class 'numpy.int64'>\"...\n",
      "Converting \"time\" to \"<class 'numpy.int64'>\"...\n",
      "Converting \"time\" to \"<class 'numpy.int64'>\"...\n",
      "sldcd05_nap2\n",
      "Extracting parameters from /Volumes/CLPS_Watanabe_Lab/users/Zhiyan/SleepDecoding/Experiment/sbj/sldcd05/nap2/EEG/raw/sldcd05nap2_reref_01100.vhdr...\n",
      "Setting channel info structure...\n",
      "Reading 0 ... 2732409  =      0.000 ...  5464.818 secs...\n"
     ]
    },
    {
     "name": "stderr",
     "output_type": "stream",
     "text": [
      "<ipython-input-16-2decfd8c57d9>:3: RuntimeWarning: No coordinate information found for channels ['EMG']. Setting channel types to misc. To avoid this warning, set channel types explicitly.\n",
      "  raw = mne.io.read_raw_brainvision(fn_path, eog = ('HEOG', 'VEOG'), preload=True)\n"
     ]
    },
    {
     "name": "stdout",
     "output_type": "stream",
     "text": [
      "DigMontage is a superset of info. 3 in DigMontage will be ignored. The ignored channels are: {'EMG', 'VEOG', 'HEOG'}\n"
     ]
    },
    {
     "name": "stderr",
     "output_type": "stream",
     "text": [
      "<ipython-input-16-2decfd8c57d9>:3: DeprecationWarning: The `montage` parameter from `read_raw_brainvision` is deprecated and will be removed  in version 0.20. Use  raw.set_montage(montage) instead.\n",
      "  raw = mne.io.read_raw_brainvision(fn_path, eog = ('HEOG', 'VEOG'), preload=True)\n"
     ]
    },
    {
     "name": "stdout",
     "output_type": "stream",
     "text": [
      "Converting \"time\" to \"<class 'numpy.int64'>\"...\n",
      "Converting \"time\" to \"<class 'numpy.int64'>\"...\n",
      "Converting \"time\" to \"<class 'numpy.int64'>\"...\n",
      "sldcd06_nap2\n",
      "Extracting parameters from /Volumes/CLPS_Watanabe_Lab/users/Zhiyan/SleepDecoding/Experiment/sbj/sldcd06/nap2/EEG/raw/sldcd06nap2_reref_01100.vhdr...\n",
      "Setting channel info structure...\n",
      "Reading 0 ... 2725948  =      0.000 ...  5451.896 secs...\n"
     ]
    },
    {
     "name": "stderr",
     "output_type": "stream",
     "text": [
      "<ipython-input-16-2decfd8c57d9>:3: RuntimeWarning: No coordinate information found for channels ['EMG']. Setting channel types to misc. To avoid this warning, set channel types explicitly.\n",
      "  raw = mne.io.read_raw_brainvision(fn_path, eog = ('HEOG', 'VEOG'), preload=True)\n"
     ]
    },
    {
     "name": "stdout",
     "output_type": "stream",
     "text": [
      "DigMontage is a superset of info. 3 in DigMontage will be ignored. The ignored channels are: {'EMG', 'VEOG', 'HEOG'}\n"
     ]
    },
    {
     "name": "stderr",
     "output_type": "stream",
     "text": [
      "<ipython-input-16-2decfd8c57d9>:3: DeprecationWarning: The `montage` parameter from `read_raw_brainvision` is deprecated and will be removed  in version 0.20. Use  raw.set_montage(montage) instead.\n",
      "  raw = mne.io.read_raw_brainvision(fn_path, eog = ('HEOG', 'VEOG'), preload=True)\n"
     ]
    },
    {
     "name": "stdout",
     "output_type": "stream",
     "text": [
      "Converting \"time\" to \"<class 'numpy.int64'>\"...\n",
      "Converting \"time\" to \"<class 'numpy.int64'>\"...\n",
      "Converting \"time\" to \"<class 'numpy.int64'>\"...\n"
     ]
    }
   ],
   "source": [
    "# start the loop for processing participants \n",
    "# for SUB in subjects:\n",
    "#     for NAP in naps:\n",
    "data_final = pd.DataFrame(columns=['data', 'channel_name', 'label', 'subject'])\n",
    "for SUB in subjects:\n",
    "    for NAP in naps:\n",
    "    #SUB = 'sldcd01'\n",
    "    #NAP = 'nap2'\n",
    "        print(SUB + '_' + NAP)\n",
    "    \n",
    "        eeg_s, eog_s, emg_s= load_parse_eeg(SUB, NAP)\n",
    "        label_s = load_label_raw(SUB, NAP)\n",
    "        bad_s = load_bad_ch(SUB, NAP)\n",
    "        num_epochs = len(label_s) \n",
    "    # preprocess for eeg\n",
    "        ch_names = eeg_s.ch_names\n",
    "        data_preprocessed_eeg = pd.DataFrame(0.0, index=range(num_epochs * len(ch_names)), columns=range(4))\n",
    "        data_preprocessed_eeg.columns = ['data', 'channel_name', 'label', 'subject']\n",
    "        data_preprocessed_eeg = data_preprocessed_eeg.astype({'data': 'object', 'channel_name':'str', 'label': 'int32', 'subject':'str'})\n",
    "    #data_preprocessed = np.zeros((num_epochs * num_ch, 1)) # data, ch_ name,  label, subject\n",
    "        data_preprocessed_eeg['subject'] = SUB\n",
    "        tmp = eeg_s.to_data_frame()\n",
    "        for i in range(len(ch_names)):\n",
    "            if ch_names[i] in bad_s:  \n",
    "                data_preprocessed_eeg.iloc[i * num_epochs : i * num_epochs + num_epochs, 1] = ch_names[i]\n",
    "                data_preprocessed_eeg.iloc[i * num_epochs : i * num_epochs + num_epochs, 0] = 'nan'\n",
    "                data_preprocessed_eeg.iloc[i * num_epochs : i * num_epochs + num_epochs, 2] = label_s[:,1]\n",
    "                continue\n",
    "            t = tmp[ch_names[i]].values\n",
    "            data_preprocessed_eeg.iloc[i * num_epochs : i * num_epochs + num_epochs, 1] = ch_names[i]\n",
    "            data_preprocessed_eeg.iloc[i * num_epochs : i * num_epochs + num_epochs, 2] = label_s[:,1]\n",
    "            for j in range(num_epochs):\n",
    "                id = i * num_epochs + j \n",
    "                if label_s[j, 2] == 1:\n",
    "                    data_preprocessed_eeg.iloc[id, 0] = 'nan'\n",
    "                    continue\n",
    "                d = t[j * len_epochs * sampling : j * len_epochs * sampling + len_epochs * sampling]\n",
    "                d = np.expand_dims(d, axis =1)\n",
    "                data_preprocessed_eeg.iloc[id, 0] = d\n",
    "            \n",
    "        #preprocess for eog\n",
    "        ch_names = eog_s.ch_names\n",
    "        data_preprocessed_eog = pd.DataFrame(0.0, index=range(num_epochs * len(ch_names)), columns=range(4))\n",
    "        data_preprocessed_eog.columns = ['data', 'channel_name', 'label', 'subject']\n",
    "        data_preprocessed_eog = data_preprocessed_eog.astype({'data': 'object', 'channel_name':'str', 'label': 'int32', 'subject':'str'})\n",
    "        #data_preprocessed = np.zeros((num_epochs * num_ch, 1)) # data, ch_ name,  label, subject\n",
    "        data_preprocessed_eog['subject'] = SUB\n",
    "        tmp = eog_s.to_data_frame()\n",
    "        for i in range(len(ch_names)):\n",
    "            if ch_names[i] in bad_s:  \n",
    "                data_preprocessed_eog.iloc[i * num_epochs : i * num_epochs + num_epochs, 1] = ch_names[i]\n",
    "                data_preprocessed_eog.iloc[i * num_epochs : i * num_epochs + num_epochs, 0] = 'nan'\n",
    "                data_preprocessed_eog.iloc[i * num_epochs : i * num_epochs + num_epochs, 2] = label_s[:,1]\n",
    "                continue\n",
    "            t = tmp[ch_names[i]].values\n",
    "            data_preprocessed_eog.iloc[i * num_epochs : i * num_epochs + num_epochs, 1] = ch_names[i]\n",
    "            data_preprocessed_eog.iloc[i * num_epochs : i * num_epochs + num_epochs, 2] = label_s[:,1]\n",
    "            for j in range(num_epochs):\n",
    "                id = i * num_epochs + j \n",
    "                if label_s[j, 2] == 1:\n",
    "                    data_preprocessed_eog.iloc[id, 0] = 'nan'\n",
    "                    continue\n",
    "                d = t[j * len_epochs * sampling : j * len_epochs * sampling + len_epochs * sampling]\n",
    "                d = np.expand_dims(d, axis =1)\n",
    "                data_preprocessed_eog.iloc[id, 0] = d\n",
    "                \n",
    "       # preprocess for eog and ecg \n",
    "        ch_names = emg_s.ch_names\n",
    "        data_preprocessed_emg = pd.DataFrame(0.0, index=range(num_epochs * len(ch_names)), columns=range(4))\n",
    "        data_preprocessed_emg.columns = ['data', 'channel_name', 'label', 'subject']\n",
    "        data_preprocessed_emg = data_preprocessed_emg.astype({'data': 'object', 'channel_name':'str', 'label': 'int32', 'subject':'str'})\n",
    "        #data_preprocessed = np.zeros((num_epochs * num_ch, 1)) # data, ch_ name,  label, subject\n",
    "        data_preprocessed_emg['subject'] = SUB\n",
    "        tmp = emg_s.to_data_frame()\n",
    "        for i in range(len(ch_names)):\n",
    "            if ch_names[i] in bad_s:  \n",
    "                data_preprocessed_emg.iloc[i * num_epochs : i * num_epochs + num_epochs, 1] = ch_names[i]\n",
    "                data_preprocessed_emg.iloc[i * num_epochs : i * num_epochs + num_epochs, 0] = 'nan'\n",
    "                data_preprocessed_emg.iloc[i * num_epochs : i * num_epochs + num_epochs, 2] = label_s[:,1]\n",
    "                continue\n",
    "            t = tmp[ch_names[i]].values\n",
    "            data_preprocessed_emg.iloc[i * num_epochs : i * num_epochs + num_epochs, 1] = ch_names[i]\n",
    "            data_preprocessed_emg.iloc[i * num_epochs : i * num_epochs + num_epochs, 2] = label_s[:,1]\n",
    "            for j in range(num_epochs):\n",
    "                id = i * num_epochs + j \n",
    "                if label_s[j, 2] == 1:\n",
    "                    data_preprocessed_emg.iloc[id, 0] = 'nan'\n",
    "                    continue\n",
    "                d = t[j * len_epochs * sampling : j * len_epochs * sampling + len_epochs * sampling]\n",
    "                d = np.expand_dims(d, axis =1)\n",
    "                data_preprocessed_emg.iloc[id, 0] = d         \n",
    "        \n",
    "        # append data for each subject \n",
    "        data_preprocessed = data_preprocessed_eeg.append(data_preprocessed_eog)\n",
    "        data_preprocessed = data_preprocessed.append(data_preprocessed_emg)\n",
    "    data_final = data_final.append(data_preprocessed)"
   ]
  },
  {
   "cell_type": "code",
   "execution_count": 19,
   "metadata": {},
   "outputs": [],
   "source": [
    "data_final.shape\n",
    "data_final.to_pickle('processed_sleep.pkl')"
   ]
  },
  {
   "cell_type": "code",
   "execution_count": null,
   "metadata": {},
   "outputs": [],
   "source": [
    "## append data frame to a whole data frame \n"
   ]
  }
 ],
 "metadata": {
  "kernelspec": {
   "display_name": "mne",
   "language": "python",
   "name": "mne"
  },
  "language_info": {
   "codemirror_mode": {
    "name": "ipython",
    "version": 3
   },
   "file_extension": ".py",
   "mimetype": "text/x-python",
   "name": "python",
   "nbconvert_exporter": "python",
   "pygments_lexer": "ipython3",
   "version": "3.7.4"
  }
 },
 "nbformat": 4,
 "nbformat_minor": 2
}
