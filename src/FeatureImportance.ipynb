{
 "cells": [
  {
   "cell_type": "code",
   "execution_count": 3,
   "metadata": {},
   "outputs": [],
   "source": [
    "import pandas as pd\n",
    "import numpy  as np\n",
    "from sklearn.preprocessing import OneHotEncoder\n",
    "from sklearn.model_selection import GridSearchCV\n",
    "from sklearn.preprocessing import StandardScaler\n",
    "from sklearn.preprocessing import LabelEncoder\n",
    "from sklearn.model_selection import train_test_split\n",
    "from sklearn.model_selection import StratifiedKFold\n",
    "from sklearn.metrics import accuracy_score\n",
    "from sklearn.linear_model import LogisticRegression\n",
    "from sklearn.ensemble import RandomForestClassifier\n",
    "from sklearn.svm import SVC\n",
    "from sklearn.compose import ColumnTransformer\n",
    "from sklearn.pipeline import Pipeline\n",
    "from sklearn.pipeline import make_pipeline\n",
    "from sklearn.metrics import make_scorer\n",
    "from sklearn.impute import SimpleImputer\n",
    "import matplotlib.pyplot as plt\n",
    "import matplotlib\n"
   ]
  },
  {
   "cell_type": "code",
   "execution_count": 4,
   "metadata": {},
   "outputs": [],
   "source": [
    "df = pd.read_csv('../data/processed_sleep_fft.csv')\n",
    "cat_ftrs = ['channel_name']\n",
    "scalar_ftrs = ['alpha', 'theta', 'slowwave', 'sigma']"
   ]
  },
  {
   "cell_type": "code",
   "execution_count": 5,
   "metadata": {},
   "outputs": [
    {
     "name": "stdout",
     "output_type": "stream",
     "text": [
      "balance 0 0.1071059175634339\n",
      "balance 1 0.1365286855482934\n",
      "balance 2 0.09823727470786295\n",
      "balance 3 0.34462269756387404\n",
      "balance 4 0.31350542461653574\n"
     ]
    }
   ],
   "source": [
    "le = LabelEncoder()\n",
    "y = le.fit_transform(df['label'])\n",
    "subject_ID = df['subject']\n",
    "nap_ID = df['NAP']\n",
    "dropc = ['Unnamed: 0', 'label', 'subject', 'NAP']\n",
    "X = df.drop(columns= dropc)\n",
    "ftr_names = X.columns\n",
    "# check balance \n",
    "classes, counts = np.unique(y, return_counts=True)\n",
    "for i in range(len(classes)):\n",
    "    print ('balance', i, counts[i]/ len(y))"
   ]
  },
  {
   "cell_type": "code",
   "execution_count": 6,
   "metadata": {},
   "outputs": [],
   "source": [
    "# encode groups 4 subject ID * 2 naps \n",
    "import itertools\n",
    "n_subject = np.unique(subject_ID)\n",
    "n_nap = np.unique(nap_ID)\n",
    "iterset = (list(itertools.product(n_subject, n_nap)))\n",
    "group = np.zeros((len(subject_ID), 1))\n",
    "i = 0\n",
    "for sbj, nap in iterset:\n",
    "    idx = np.logical_and(subject_ID == sbj, nap_ID== nap)\n",
    "    group[idx] = i\n",
    "    i+= 1"
   ]
  },
  {
   "cell_type": "code",
   "execution_count": 7,
   "metadata": {},
   "outputs": [],
   "source": [
    "# Run the best model and save the result on hub\n",
    "from sklearn.model_selection import GroupKFold\n",
    "from sklearn.model_selection import GroupShuffleSplit\n",
    "from sklearn.model_selection import ParameterGrid\n",
    "from xgboost import XGBClassifier\n",
    "def ML_pipeline_groups_GridSearchCV_XGboost(X,y,groups,random_state,n_folds):\n",
    "    # create a test set based on groups\n",
    "    splitter = GroupShuffleSplit(n_splits=1,test_size=0.2,random_state=random_state)\n",
    "    for i_other,i_test in splitter.split(X, y, groups):\n",
    "        X_other, y_other, groups_other = X.iloc[i_other], y[i_other], groups[i_other]\n",
    "        X_test, y_test, groups_test = X.iloc[i_test], y[i_test], groups[i_test]\n",
    "    # splitter for _other\n",
    "    kf = GroupKFold(n_splits=n_folds)\n",
    "    # create the pipeline: preprocessor + supervised ML method\n",
    "    cat_ftrs = ['channel_name']\n",
    "    cont_ftrs = ['alpha', 'theta', 'slowwave', 'sigma']\n",
    "    cat_transformer = Pipeline(steps = [\n",
    "        ('imputer1', SimpleImputer(missing_values='0.0', strategy='constant',fill_value='missing')),\n",
    "        ('onehot', OneHotEncoder(sparse = False, categories = 'auto'))])\n",
    "    cont_transformer = Pipeline(steps = [\n",
    "        ('scaler', StandardScaler())])\n",
    "    preprocessor = ColumnTransformer(remainder='passthrough',\n",
    "    transformers=[\n",
    "        ('num', cont_transformer, cont_ftrs),\n",
    "        ('cat', cat_transformer, cat_ftrs)])\n",
    "    \n",
    "    # make overall pipeline\n",
    "    pipe = make_pipeline(\n",
    "        preprocessor,\n",
    "        XGBClassifier(seed = random_state))\n",
    "    \n",
    "    # specify parameters \n",
    "    param_grid = {\"xgbclassifier__reg_alpha\":[1.0] }\n",
    "    # prepare gridsearch\n",
    "    grid = GridSearchCV(pipe, param_grid=(param_grid),scoring = make_scorer(accuracy_score),\n",
    "                        cv=kf, return_train_score = True,iid=True, n_jobs = -1)\n",
    "    # do kfold CV on _other\n",
    "    grid.fit(X_other, y_other, groups_other)\n",
    "    return grid, grid.score(X_test, y_test), X_test, y_test"
   ]
  },
  {
   "cell_type": "code",
   "execution_count": 8,
   "metadata": {},
   "outputs": [
    {
     "name": "stdout",
     "output_type": "stream",
     "text": [
      "{'xgbclassifier__reg_alpha': 1.0}\n",
      "best CV score: 0.622070852618403\n",
      "test score: 0.7369227994227994\n"
     ]
    }
   ],
   "source": [
    "grid, test_score, X_test, y_test = ML_pipeline_groups_GridSearchCV_XGboost(X,y,group,0,5)\n",
    "print(grid.best_params_)\n",
    "print('best CV score:',grid.best_score_)\n",
    "print('test score:',test_score)"
   ]
  },
  {
   "cell_type": "code",
   "execution_count": null,
   "metadata": {},
   "outputs": [],
   "source": [
    "# https://scikit-learn.org/stable/auto_examples/model_selection/plot_confusion_matrix.html\n",
    "import numpy as np\n",
    "import matplotlib.pyplot as plt\n",
    "from sklearn.utils.multiclass import unique_labels\n",
    "\n",
    "def plot_confusion_matrix(y_true, y_pred, classes,\n",
    "                          normalize=False,\n",
    "                          title=None,\n",
    "                          cmap=plt.cm.Blues):\n",
    "    \"\"\"\n",
    "    This function prints and plots the confusion matrix.\n",
    "    Normalization can be applied by setting `normalize=True`.\n",
    "    \"\"\"\n",
    "    if not title:\n",
    "        if normalize:\n",
    "            title = 'Normalized confusion matrix'\n",
    "        else:\n",
    "            title = 'Confusion matrix, without normalization'\n",
    "\n",
    "    # Compute confusion matrix\n",
    "    cm = confusion_matrix(y_true, y_pred)\n",
    "    # Only use the labels that appear in the data\n",
    "    classes = np.array(classes)\n",
    "    classes = classes[unique_labels(y_true, y_pred)]\n",
    "    if normalize:\n",
    "        cm = cm.astype('float') / cm.sum(axis=1)[:, np.newaxis]\n",
    "        \n",
    "    fig, ax = plt.subplots()\n",
    "    im = ax.imshow(cm, interpolation='nearest', cmap=cmap)\n",
    "    ax.figure.colorbar(im, ax=ax)\n",
    "    # We want to show all ticks...\n",
    "    ax.set(xticks=np.arange(cm.shape[1]),\n",
    "           yticks=np.arange(cm.shape[0]),\n",
    "           # ... and label them with the respective list entries\n",
    "           xticklabels=classes, yticklabels=classes,\n",
    "           title=title,\n",
    "           ylabel='True label',\n",
    "           xlabel='Predicted label')\n",
    "\n",
    "    # Rotate the tick labels and set their alignment.\n",
    "    plt.setp(ax.get_xticklabels(), rotation=45, ha=\"right\",\n",
    "             rotation_mode=\"anchor\")\n",
    "\n",
    "    # Loop over data dimensions and create text annotations.\n",
    "    fmt = '.2f' if normalize else 'd'\n",
    "    thresh = cm.max() / 2.\n",
    "    for i in range(cm.shape[0]):\n",
    "        for j in range(cm.shape[1]):\n",
    "            ax.text(j, i, format(cm[i, j], fmt),\n",
    "                    ha=\"center\", va=\"center\",\n",
    "                    color=\"white\" if cm[i, j] > thresh else \"black\")\n",
    "    fig.tight_layout()\n",
    "    return ax\n"
   ]
  },
  {
   "cell_type": "code",
   "execution_count": null,
   "metadata": {},
   "outputs": [],
   "source": [
    "plot_confusion_matrix(y_test,grid.predict(X_test),classes=['REM','W','N1','N2','N3'])\n",
    "plt.margins(1)\n",
    "plt.show()\n",
    "plt.savefig('../figures/confusion_matrix.png')"
   ]
  },
  {
   "cell_type": "code",
   "execution_count": 9,
   "metadata": {},
   "outputs": [],
   "source": [
    "import pickle\n",
    "import os \n",
    "\n",
    "filename = '../results/grid.save'\n",
    "file = open(filename, 'wb')\n",
    "pickle.dump((grid,X_test,y_test),file)\n",
    "file.close()"
   ]
  },
  {
   "cell_type": "code",
   "execution_count": null,
   "metadata": {},
   "outputs": [],
   "source": [
    "# import pickle\n",
    "# file = open('../results/grid.save', 'rb')\n",
    "# a, b, c = pickle.load(file)\n",
    "# file.close()"
   ]
  },
  {
   "cell_type": "code",
   "execution_count": 10,
   "metadata": {},
   "outputs": [
    {
     "name": "stdout",
     "output_type": "stream",
     "text": [
      "test score =  0.7369227994227994\n",
      "test baseline =  0.08531746031746032\n",
      "shuffling alpha\n",
      "   shuffled test score: 0.638 +/- 0.001\n",
      "shuffling theta\n",
      "   shuffled test score: 0.684 +/- 0.002\n",
      "shuffling slowwave\n",
      "   shuffled test score: 0.576 +/- 0.003\n",
      "shuffling sigma\n",
      "   shuffled test score: 0.58 +/- 0.003\n",
      "shuffling channel_name\n",
      "   shuffled test score: 0.726 +/- 0.002\n"
     ]
    }
   ],
   "source": [
    "# Run the permutation \n",
    "\n",
    "\n",
    "nr_runs = 10\n",
    "scores = np.zeros([len(ftr_names),nr_runs])\n",
    "\n",
    "test_score = grid.score(X_test,y_test)\n",
    "print('test score = ',test_score)\n",
    "print('test baseline = ',np.sum(y_test == 0)/len(y_test))\n",
    "# loop through the features\n",
    "for i in range(len(ftr_names)):\n",
    "    print('shuffling '+str(ftr_names[i]))\n",
    "    acc_scores = []\n",
    "    for j in range(nr_runs):\n",
    "        X_test_shuffled = X_test.copy()\n",
    "        X_test_shuffled[ftr_names[i]] = np.random.permutation(X_test[ftr_names[i]].values)\n",
    "        acc_scores.append(grid.score(X_test_shuffled,y_test))\n",
    "    print('   shuffled test score:',np.around(np.mean(acc_scores),3),'+/-',np.around(np.std(acc_scores),3))\n",
    "    scores[i] = acc_scores"
   ]
  },
  {
   "cell_type": "code",
   "execution_count": 12,
   "metadata": {},
   "outputs": [
    {
     "data": {
      "image/png": "[encoded data removed]",
      "text/plain": [
       "<Figure size 576x432 with 1 Axes>"
      ]
     },
     "metadata": {
      "needs_background": "light"
     },
     "output_type": "display_data"
    }
   ],
   "source": [
    "sorted_indcs = np.argsort(np.mean(scores,axis=1))[::-1]\n",
    "plt.rcParams.update({'font.size': 14})\n",
    "plt.figure(figsize=(8,6))\n",
    "plt.boxplot(scores[sorted_indcs].T,labels=ftr_names[sorted_indcs],vert=False)\n",
    "plt.axvline(test_score,label='test score')\n",
    "plt.title(\"Permutation Importances (test set)\")\n",
    "plt.xlabel('score with perturbed feature')\n",
    "plt.legend()\n",
    "plt.tight_layout()\n",
    "plt.savefig('../figures/feature_permutation.png')\n",
    "plt.show()"
   ]
  },
  {
   "cell_type": "code",
   "execution_count": null,
   "metadata": {},
   "outputs": [],
   "source": []
  }
 ],
 "metadata": {
  "kernelspec": {
   "display_name": "Python 3",
   "language": "python",
   "name": "python3"
  },
  "language_info": {
   "codemirror_mode": {
    "name": "ipython",
    "version": 3
   },
   "file_extension": ".py",
   "mimetype": "text/x-python",
   "name": "python",
   "nbconvert_exporter": "python",
   "pygments_lexer": "ipython3",
   "version": "3.7.3"
  }
 },
 "nbformat": 4,
 "nbformat_minor": 4
}
