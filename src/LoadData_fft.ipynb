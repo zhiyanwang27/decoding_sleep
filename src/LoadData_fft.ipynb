{
 "cells": [
  {
   "cell_type": "code",
   "execution_count": 2,
   "metadata": {},
   "outputs": [],
   "source": [
    "\n",
    "import mne\n",
    "import numpy as np\n",
    "import matplotlib as plt\n",
    "import pandas as pd\n",
    "import os\n",
    "import scipy.io"
   ]
  },
  {
   "cell_type": "code",
   "execution_count": 36,
   "metadata": {},
   "outputs": [],
   "source": [
    "# define path\n",
    "global project_path, eeg_path, data_path, label_path, post_fix, sampling\n",
    "project_path = '/Volumes/CLPS_Watanabe_Lab/users/Zhiyan/SleepDecoding/'\n",
    "eeg_path = 'Experiment/sbj/'\n",
    "data_path = 'EEG/raw/'\n",
    "label_path = 'label/'\n",
    "post_fix = '_reref_01100.vhdr'\n",
    "subjects = ['sldcd01', 'sldcd03', 'sldcd05','sldcd06']\n",
    "naps = ['nap2', 'nap3']\n",
    "sampling = 500 # hz\n",
    "\n"
   ]
  },
  {
   "cell_type": "code",
   "execution_count": 37,
   "metadata": {},
   "outputs": [],
   "source": [
    "len_epochs = 30 # [s]\n",
    "num_ch = 36"
   ]
  },
  {
   "cell_type": "code",
   "execution_count": 38,
   "metadata": {},
   "outputs": [],
   "source": [
    "def load_label_raw(SUB, NAP):\n",
    "    fn_path = project_path +  eeg_path + SUB + '/' + NAP + '/' +  label_path +  'stageMat_' + SUB + '_' + NAP \n",
    "    label = scipy.io.loadmat(fn_path)\n",
    "    label = label['stageMat']\n",
    "    return label"
   ]
  },
  {
   "cell_type": "code",
   "execution_count": 39,
   "metadata": {},
   "outputs": [],
   "source": [
    "def load_bad_ch(SUB, NAP):\n",
    "    fn_path = project_path +  eeg_path + SUB + '/' + NAP + '/' +  label_path + SUB + '_' + NAP + '_bad' + '.txt'\n",
    "    bad = pd.read_csv(fn_path, sep=\" \", header = None)\n",
    "    return set(bad.iloc[:,0])"
   ]
  },
  {
   "cell_type": "code",
   "execution_count": 40,
   "metadata": {},
   "outputs": [],
   "source": [
    "def load_parse_eeg(SUB, NAP):\n",
    "    fn_path = project_path +  eeg_path + SUB + '/' + NAP + '/' +  data_path + SUB + NAP + post_fix\n",
    "    raw = mne.io.read_raw_brainvision(fn_path, eog = ('HEOG', 'VEOG'), preload=False)\n",
    "    return raw"
   ]
  },
  {
   "cell_type": "code",
   "execution_count": 41,
   "metadata": {},
   "outputs": [],
   "source": [
    "def create_annotations(label):\n",
    "    len_recor = label[-1,0]\n",
    "    start = np.arange(0,len_recor + 0.5, 0.5)\n",
    "    start = start * 60\n",
    "    duration = [30] * len(start) \n",
    "    description = label[:,1]\n",
    "    id = label[:, 2] == 1\n",
    "    annotations = mne.Annotations(start, duration, description)\n",
    "    annotations.description[id] = 'bad'\n",
    "    return annotations "
   ]
  },
  {
   "cell_type": "code",
   "execution_count": 42,
   "metadata": {},
   "outputs": [
    {
     "name": "stdout",
     "output_type": "stream",
     "text": [
      "Extracting parameters from /Volumes/CLPS_Watanabe_Lab/users/Zhiyan/SleepDecoding/Experiment/sbj/sldcd01/nap2/EEG/raw/sldcd01nap2_reref_01100.vhdr...\n",
      "Setting channel info structure...\n",
      "DigMontage is a superset of info. 3 in DigMontage will be ignored. The ignored channels are: {'HEOG', 'EMG', 'VEOG'}\n",
      "Used Annotations descriptions: ['-1.0', '0.0', '1.0', '2.0', '3.0']\n",
      "173 matching events found\n",
      "No baseline correction applied\n",
      "Not setting metadata\n",
      "0 projection items activated\n",
      "Loading data for 173 events and 15000 original time points ...\n"
     ]
    },
    {
     "name": "stderr",
     "output_type": "stream",
     "text": [
      "<ipython-input-40-67f07061dceb>:3: RuntimeWarning: No coordinate information found for channels ['EMG']. Setting channel types to misc. To avoid this warning, set channel types explicitly.\n",
      "  raw = mne.io.read_raw_brainvision(fn_path, eog = ('HEOG', 'VEOG'), preload=False)\n",
      "<ipython-input-40-67f07061dceb>:3: DeprecationWarning: The `montage` parameter from `read_raw_brainvision` is deprecated and will be removed  in version 0.20. Use  raw.set_montage(montage) instead.\n",
      "  raw = mne.io.read_raw_brainvision(fn_path, eog = ('HEOG', 'VEOG'), preload=False)\n"
     ]
    },
    {
     "name": "stdout",
     "output_type": "stream",
     "text": [
      "0 bad epochs dropped\n",
      "Effective window size : 0.512 (s)\n",
      "Extracting parameters from /Volumes/CLPS_Watanabe_Lab/users/Zhiyan/SleepDecoding/Experiment/sbj/sldcd01/nap3/EEG/raw/sldcd01nap3_reref_01100.vhdr...\n",
      "Setting channel info structure...\n"
     ]
    },
    {
     "name": "stderr",
     "output_type": "stream",
     "text": [
      "<ipython-input-40-67f07061dceb>:3: RuntimeWarning: No coordinate information found for channels ['EMG']. Setting channel types to misc. To avoid this warning, set channel types explicitly.\n",
      "  raw = mne.io.read_raw_brainvision(fn_path, eog = ('HEOG', 'VEOG'), preload=False)\n"
     ]
    },
    {
     "name": "stdout",
     "output_type": "stream",
     "text": [
      "DigMontage is a superset of info. 3 in DigMontage will be ignored. The ignored channels are: {'HEOG', 'EMG', 'VEOG'}\n"
     ]
    },
    {
     "name": "stderr",
     "output_type": "stream",
     "text": [
      "<ipython-input-40-67f07061dceb>:3: DeprecationWarning: The `montage` parameter from `read_raw_brainvision` is deprecated and will be removed  in version 0.20. Use  raw.set_montage(montage) instead.\n",
      "  raw = mne.io.read_raw_brainvision(fn_path, eog = ('HEOG', 'VEOG'), preload=False)\n"
     ]
    },
    {
     "name": "stdout",
     "output_type": "stream",
     "text": [
      "Used Annotations descriptions: ['-1.0', '0.0', '1.0', '2.0', '3.0']\n",
      "170 matching events found\n",
      "No baseline correction applied\n",
      "Not setting metadata\n",
      "0 projection items activated\n",
      "Loading data for 170 events and 15000 original time points ...\n",
      "0 bad epochs dropped\n",
      "Effective window size : 0.512 (s)\n",
      "Extracting parameters from /Volumes/CLPS_Watanabe_Lab/users/Zhiyan/SleepDecoding/Experiment/sbj/sldcd03/nap2/EEG/raw/sldcd03nap2_reref_01100.vhdr...\n",
      "Setting channel info structure...\n",
      "DigMontage is a superset of info. 3 in DigMontage will be ignored. The ignored channels are: {'HEOG', 'EMG', 'VEOG'}\n",
      "Used Annotations descriptions: ['-1.0', '0.0', '1.0', '2.0', '3.0']\n",
      "169 matching events found\n",
      "No baseline correction applied\n",
      "Not setting metadata\n",
      "0 projection items activated\n",
      "Loading data for 169 events and 15000 original time points ...\n"
     ]
    },
    {
     "name": "stderr",
     "output_type": "stream",
     "text": [
      "<ipython-input-40-67f07061dceb>:3: RuntimeWarning: No coordinate information found for channels ['EMG']. Setting channel types to misc. To avoid this warning, set channel types explicitly.\n",
      "  raw = mne.io.read_raw_brainvision(fn_path, eog = ('HEOG', 'VEOG'), preload=False)\n",
      "<ipython-input-40-67f07061dceb>:3: DeprecationWarning: The `montage` parameter from `read_raw_brainvision` is deprecated and will be removed  in version 0.20. Use  raw.set_montage(montage) instead.\n",
      "  raw = mne.io.read_raw_brainvision(fn_path, eog = ('HEOG', 'VEOG'), preload=False)\n"
     ]
    },
    {
     "name": "stdout",
     "output_type": "stream",
     "text": [
      "0 bad epochs dropped\n",
      "Effective window size : 0.512 (s)\n",
      "Extracting parameters from /Volumes/CLPS_Watanabe_Lab/users/Zhiyan/SleepDecoding/Experiment/sbj/sldcd03/nap3/EEG/raw/sldcd03nap3_reref_01100.vhdr...\n",
      "Setting channel info structure...\n",
      "DigMontage is a superset of info. 3 in DigMontage will be ignored. The ignored channels are: {'HEOG', 'EMG', 'VEOG'}\n",
      "Used Annotations descriptions: ['-1.0', '0.0', '1.0', '2.0', '3.0']\n",
      "173 matching events found\n",
      "No baseline correction applied\n",
      "Not setting metadata\n",
      "0 projection items activated\n",
      "Loading data for 173 events and 15000 original time points ...\n"
     ]
    },
    {
     "name": "stderr",
     "output_type": "stream",
     "text": [
      "<ipython-input-40-67f07061dceb>:3: RuntimeWarning: No coordinate information found for channels ['EMG']. Setting channel types to misc. To avoid this warning, set channel types explicitly.\n",
      "  raw = mne.io.read_raw_brainvision(fn_path, eog = ('HEOG', 'VEOG'), preload=False)\n",
      "<ipython-input-40-67f07061dceb>:3: DeprecationWarning: The `montage` parameter from `read_raw_brainvision` is deprecated and will be removed  in version 0.20. Use  raw.set_montage(montage) instead.\n",
      "  raw = mne.io.read_raw_brainvision(fn_path, eog = ('HEOG', 'VEOG'), preload=False)\n"
     ]
    },
    {
     "name": "stdout",
     "output_type": "stream",
     "text": [
      "0 bad epochs dropped\n",
      "Effective window size : 0.512 (s)\n",
      "Extracting parameters from /Volumes/CLPS_Watanabe_Lab/users/Zhiyan/SleepDecoding/Experiment/sbj/sldcd05/nap2/EEG/raw/sldcd05nap2_reref_01100.vhdr...\n",
      "Setting channel info structure...\n",
      "DigMontage is a superset of info. 3 in DigMontage will be ignored. The ignored channels are: {'HEOG', 'EMG', 'VEOG'}\n"
     ]
    },
    {
     "name": "stderr",
     "output_type": "stream",
     "text": [
      "<ipython-input-40-67f07061dceb>:3: RuntimeWarning: No coordinate information found for channels ['EMG']. Setting channel types to misc. To avoid this warning, set channel types explicitly.\n",
      "  raw = mne.io.read_raw_brainvision(fn_path, eog = ('HEOG', 'VEOG'), preload=False)\n",
      "<ipython-input-40-67f07061dceb>:3: DeprecationWarning: The `montage` parameter from `read_raw_brainvision` is deprecated and will be removed  in version 0.20. Use  raw.set_montage(montage) instead.\n",
      "  raw = mne.io.read_raw_brainvision(fn_path, eog = ('HEOG', 'VEOG'), preload=False)\n"
     ]
    },
    {
     "name": "stdout",
     "output_type": "stream",
     "text": [
      "Used Annotations descriptions: ['-1.0', '0.0', '1.0', '2.0', '3.0']\n",
      "178 matching events found\n",
      "No baseline correction applied\n",
      "Not setting metadata\n",
      "0 projection items activated\n",
      "Loading data for 178 events and 15000 original time points ...\n",
      "0 bad epochs dropped\n",
      "Effective window size : 0.512 (s)\n",
      "Extracting parameters from /Volumes/CLPS_Watanabe_Lab/users/Zhiyan/SleepDecoding/Experiment/sbj/sldcd05/nap3/EEG/raw/sldcd05nap3_reref_01100.vhdr...\n",
      "Setting channel info structure...\n",
      "DigMontage is a superset of info. 3 in DigMontage will be ignored. The ignored channels are: {'HEOG', 'EMG', 'VEOG'}\n",
      "Used Annotations descriptions: ['-1.0', '0.0', '1.0', '2.0', '3.0']\n",
      "176 matching events found\n",
      "No baseline correction applied\n",
      "Not setting metadata\n",
      "0 projection items activated\n",
      "Loading data for 176 events and 15000 original time points ...\n"
     ]
    },
    {
     "name": "stderr",
     "output_type": "stream",
     "text": [
      "<ipython-input-40-67f07061dceb>:3: RuntimeWarning: No coordinate information found for channels ['EMG']. Setting channel types to misc. To avoid this warning, set channel types explicitly.\n",
      "  raw = mne.io.read_raw_brainvision(fn_path, eog = ('HEOG', 'VEOG'), preload=False)\n",
      "<ipython-input-40-67f07061dceb>:3: DeprecationWarning: The `montage` parameter from `read_raw_brainvision` is deprecated and will be removed  in version 0.20. Use  raw.set_montage(montage) instead.\n",
      "  raw = mne.io.read_raw_brainvision(fn_path, eog = ('HEOG', 'VEOG'), preload=False)\n"
     ]
    },
    {
     "name": "stdout",
     "output_type": "stream",
     "text": [
      "0 bad epochs dropped\n",
      "Effective window size : 0.512 (s)\n",
      "Extracting parameters from /Volumes/CLPS_Watanabe_Lab/users/Zhiyan/SleepDecoding/Experiment/sbj/sldcd06/nap2/EEG/raw/sldcd06nap2_reref_01100.vhdr...\n",
      "Setting channel info structure...\n",
      "DigMontage is a superset of info. 3 in DigMontage will be ignored. The ignored channels are: {'HEOG', 'EMG', 'VEOG'}\n",
      "Used Annotations descriptions: ['-1.0', '0.0', '1.0', '2.0', '3.0']\n",
      "167 matching events found\n",
      "No baseline correction applied\n",
      "Not setting metadata\n",
      "0 projection items activated\n",
      "Loading data for 167 events and 15000 original time points ...\n"
     ]
    },
    {
     "name": "stderr",
     "output_type": "stream",
     "text": [
      "<ipython-input-40-67f07061dceb>:3: RuntimeWarning: No coordinate information found for channels ['EMG']. Setting channel types to misc. To avoid this warning, set channel types explicitly.\n",
      "  raw = mne.io.read_raw_brainvision(fn_path, eog = ('HEOG', 'VEOG'), preload=False)\n",
      "<ipython-input-40-67f07061dceb>:3: DeprecationWarning: The `montage` parameter from `read_raw_brainvision` is deprecated and will be removed  in version 0.20. Use  raw.set_montage(montage) instead.\n",
      "  raw = mne.io.read_raw_brainvision(fn_path, eog = ('HEOG', 'VEOG'), preload=False)\n"
     ]
    },
    {
     "name": "stdout",
     "output_type": "stream",
     "text": [
      "0 bad epochs dropped\n",
      "Effective window size : 0.512 (s)\n",
      "Extracting parameters from /Volumes/CLPS_Watanabe_Lab/users/Zhiyan/SleepDecoding/Experiment/sbj/sldcd06/nap3/EEG/raw/sldcd06nap3_reref_01100.vhdr...\n",
      "Setting channel info structure...\n",
      "DigMontage is a superset of info. 3 in DigMontage will be ignored. The ignored channels are: {'HEOG', 'EMG', 'VEOG'}\n",
      "Used Annotations descriptions: ['-1.0', '0.0', '1.0', '2.0', '3.0']\n",
      "171 matching events found\n",
      "No baseline correction applied\n",
      "Not setting metadata\n",
      "0 projection items activated\n",
      "Loading data for 171 events and 15000 original time points ...\n"
     ]
    },
    {
     "name": "stderr",
     "output_type": "stream",
     "text": [
      "<ipython-input-40-67f07061dceb>:3: RuntimeWarning: No coordinate information found for channels ['EMG']. Setting channel types to misc. To avoid this warning, set channel types explicitly.\n",
      "  raw = mne.io.read_raw_brainvision(fn_path, eog = ('HEOG', 'VEOG'), preload=False)\n",
      "<ipython-input-40-67f07061dceb>:3: DeprecationWarning: The `montage` parameter from `read_raw_brainvision` is deprecated and will be removed  in version 0.20. Use  raw.set_montage(montage) instead.\n",
      "  raw = mne.io.read_raw_brainvision(fn_path, eog = ('HEOG', 'VEOG'), preload=False)\n"
     ]
    },
    {
     "name": "stdout",
     "output_type": "stream",
     "text": [
      "0 bad epochs dropped\n",
      "Effective window size : 0.512 (s)\n"
     ]
    }
   ],
   "source": [
    "data_final = pd.DataFrame(columns=['alpha','theta','slowwave','sigma','channel_name', 'label', 'subject','NAP'])\n",
    "for SUB in subjects:\n",
    "    for NAP in naps:\n",
    "        eeg_raw = load_parse_eeg(SUB, NAP)\n",
    "        label = load_label_raw(SUB, NAP)\n",
    "        bad = load_bad_ch(SUB, NAP)\n",
    "        annotations = create_annotations(label)\n",
    "        eeg_raw.set_annotations(annotations, emit_warning=False)\n",
    "        annot_id = {'-1.0':-1, \n",
    "                    '0.0':0,\n",
    "                    '1.0':1,\n",
    "                    '2.0':2,\n",
    "                    '3.0':3\n",
    "                   }\n",
    "        event_raw, _ = mne.events_from_annotations(eeg_raw, event_id = annot_id, chunk_duration=30.)\n",
    "        tmax = 30. - 1. / eeg_raw.info['sfreq']\n",
    "        epochs = mne.Epochs(eeg_raw, events = event_raw, tmin = 0, tmax= tmax, baseline = None)\n",
    "        psds, freqs = mne.time_frequency.psd_welch(epochs, picks='eeg', fmin=0.5, fmax=30.)\n",
    "        # create dataframe\n",
    "        ch_names = eeg_raw.ch_names\n",
    "        num_epochs = psds.shape[0]\n",
    "        num_chs = psds.shape[1]\n",
    "        label_s = label[label[:,2]==0, :]\n",
    "        data_preprocessed_eeg = pd.DataFrame(0.0, index=range(num_epochs * num_chs), columns=['alpha','theta','slowwave','sigma','channel_name', 'label', 'subject','NAP'])\n",
    "        data_preprocessed_eeg['subject'] = SUB\n",
    "        data_preprocessed_eeg = data_preprocessed_eeg.astype({'channel_name':'str', 'label': 'int32', 'subject':'str'})\n",
    "        \n",
    "        alpha  = np.mean(psds[:,:,5:7], axis = 2)\n",
    "        theta = np.mean(psds[:,:,2:5], axis = 2)\n",
    "        slowwave = np.mean(psds[:,:,0:2], axis = 2)\n",
    "        sigma = np.mean(psds[:,:,6:11],axis = 2)\n",
    "        \n",
    "        # alpha \n",
    "        alpha_sum = alpha.ravel('F')\n",
    "        alpha_sum.reshape(-1,1)\n",
    "        data_preprocessed_eeg.iloc[:, 0] = alpha_sum \n",
    "        # theta\n",
    "        theta_sum = theta.ravel('F')\n",
    "        theta_sum.reshape(-1,1)\n",
    "        data_preprocessed_eeg.iloc[:, 1] = theta_sum \n",
    "        # slowwave \n",
    "        sw_sum = slowwave.ravel('F')\n",
    "        sw_sum.reshape(-1,1)\n",
    "        data_preprocessed_eeg.iloc[:, 2] = sw_sum\n",
    "        # sigma\n",
    "        sigma_sum = sigma.ravel('F')\n",
    "        sigma_sum.reshape(-1,1)\n",
    "        data_preprocessed_eeg.iloc[:, 3] = sigma_sum\n",
    "        \n",
    "        for i in range(num_chs):\n",
    "            if ch_names[i] in bad:  \n",
    "                data_preprocessed_eeg.iloc[i * num_epochs : i * num_epochs + num_epochs, 0:4] = np.nan\n",
    "                continue\n",
    "            data_preprocessed_eeg.iloc[i * num_epochs : i * num_epochs + num_epochs, 4] = ch_names[i]\n",
    "            data_preprocessed_eeg.iloc[i * num_epochs : i * num_epochs + num_epochs, 5] = label_s[:,1]\n",
    "        data_preprocessed_eeg['NAP'] = NAP\n",
    "        data_final = data_final.append(data_preprocessed_eeg)"
   ]
  },
  {
   "cell_type": "code",
   "execution_count": 44,
   "metadata": {},
   "outputs": [],
   "source": [
    "data_final.to_csv('processed_sleep_fft.csv')"
   ]
  },
  {
   "cell_type": "code",
   "execution_count": null,
   "metadata": {},
   "outputs": [],
   "source": []
  }
 ],
 "metadata": {
  "kernelspec": {
   "display_name": "mne",
   "language": "python",
   "name": "mne"
  },
  "language_info": {
   "codemirror_mode": {
    "name": "ipython",
    "version": 3
   },
   "file_extension": ".py",
   "mimetype": "text/x-python",
   "name": "python",
   "nbconvert_exporter": "python",
   "pygments_lexer": "ipython3",
   "version": "3.7.4"
  }
 },
 "nbformat": 4,
 "nbformat_minor": 2
}
