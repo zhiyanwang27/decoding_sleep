{
 "cells": [
  {
   "cell_type": "code",
   "execution_count": 17,
   "metadata": {},
   "outputs": [],
   "source": [
    "import pandas as pd\n",
    "from matplotlib import pylab as plt\n",
    "import numpy as np \n",
    "from sklearn.preprocessing import OneHotEncoder\n",
    "from sklearn.preprocessing import StandardScaler\n",
    "from sklearn.impute import SimpleImputer\n",
    "from sklearn.preprocessing import LabelEncoder\n",
    "from sklearn.experimental import enable_iterative_imputer\n",
    "from sklearn.impute import IterativeImputer"
   ]
  },
  {
   "cell_type": "code",
   "execution_count": 16,
   "metadata": {},
   "outputs": [],
   "source": [
    "# read data \n",
    "df = pd.read_csv('../data/processed_sleep_fft.csv')"
   ]
  },
  {
   "cell_type": "code",
   "execution_count": 13,
   "metadata": {},
   "outputs": [
    {
     "name": "stdout",
     "output_type": "stream",
     "text": [
      "[0 1 2 3 4]\n",
      "(45441, 45)\n",
      "   x0_C3  x0_C4  x0_Cz  x0_F3  x0_F4  x0_F7  x0_F8  x0_FC1  x0_FC2  x0_FC5  \\\n",
      "0    0.0    0.0    0.0    0.0    0.0    0.0    0.0     0.0     0.0     0.0   \n",
      "1    0.0    0.0    0.0    0.0    0.0    0.0    0.0     0.0     0.0     0.0   \n",
      "2    0.0    0.0    0.0    0.0    0.0    0.0    0.0     0.0     0.0     0.0   \n",
      "3    0.0    0.0    0.0    0.0    0.0    0.0    0.0     0.0     0.0     0.0   \n",
      "4    0.0    0.0    0.0    0.0    0.0    0.0    0.0     0.0     0.0     0.0   \n",
      "\n",
      "   ...  x1_sldcd03  x1_sldcd05  x1_sldcd06  x2_nap2  x2_nap3     alpha  \\\n",
      "0  ...         0.0         0.0         0.0      1.0      0.0  0.249178   \n",
      "1  ...         0.0         0.0         0.0      1.0      0.0  0.071883   \n",
      "2  ...         0.0         0.0         0.0      1.0      0.0 -0.325664   \n",
      "3  ...         0.0         0.0         0.0      1.0      0.0  0.130792   \n",
      "4  ...         0.0         0.0         0.0      1.0      0.0 -0.291159   \n",
      "\n",
      "      theta  slowwave     sigma  label  \n",
      "0 -0.294115  0.044108  0.179517      1  \n",
      "1 -0.740832 -0.153179  0.134032      1  \n",
      "2 -0.786871  0.320290 -0.266507      1  \n",
      "3 -0.643542 -0.030865 -0.014302      1  \n",
      "4 -0.917632 -0.510048 -0.302998      1  \n",
      "\n",
      "[5 rows x 45 columns]\n"
     ]
    },
    {
     "name": "stderr",
     "output_type": "stream",
     "text": [
      "/opt/conda/lib/python3.7/site-packages/sklearn/ensemble/forest.py:245: FutureWarning: The default value of n_estimators will change from 10 in version 0.20 to 100 in 0.22.\n",
      "  \"10 in version 0.20 to 100 in 0.22.\", FutureWarning)\n",
      "/opt/conda/lib/python3.7/site-packages/sklearn/ensemble/forest.py:245: FutureWarning: The default value of n_estimators will change from 10 in version 0.20 to 100 in 0.22.\n",
      "  \"10 in version 0.20 to 100 in 0.22.\", FutureWarning)\n",
      "/opt/conda/lib/python3.7/site-packages/sklearn/ensemble/forest.py:245: FutureWarning: The default value of n_estimators will change from 10 in version 0.20 to 100 in 0.22.\n",
      "  \"10 in version 0.20 to 100 in 0.22.\", FutureWarning)\n",
      "/opt/conda/lib/python3.7/site-packages/sklearn/ensemble/forest.py:245: FutureWarning: The default value of n_estimators will change from 10 in version 0.20 to 100 in 0.22.\n",
      "  \"10 in version 0.20 to 100 in 0.22.\", FutureWarning)\n"
     ]
    }
   ],
   "source": [
    "cat_ftrs = ['channel_name', 'subject', 'NAP']\n",
    "scalar_ftrs = ['alpha', 'theta', 'slowwave', 'sigma']\n",
    "ohe = OneHotEncoder(sparse = False)\n",
    "si = SimpleImputer(missing_values='0.0', strategy='constant',fill_value='missing')\n",
    "ohe_value = ohe.fit_transform(si.fit_transform(df[cat_ftrs]))\n",
    "ohe_features = ohe.get_feature_names()\n",
    "df_ohe = pd.DataFrame(ohe_value, columns = ohe_features)\n",
    "#print(df_ohe.head())\n",
    "\n",
    "scalr = StandardScaler()\n",
    "ii = IterativeImputer(estimator=RandomForestRegressor(), random_state = 100)\n",
    "scal_value = scalr.fit_transform(ii.fit_transform(df[scalar_ftrs]))\n",
    "df_scal = pd.DataFrame(scal_value, columns = scalar_ftrs)\n",
    "#print(df_scal.head())\n",
    "\n",
    "lb = LabelEncoder()\n",
    "label = lb.fit_transform(df['label'])\n",
    "print(np.unique(label))\n",
    "df_label = pd.DataFrame(label, columns = ['label'])\n",
    "\n",
    "df_preprocessed = pd.concat([df_ohe, df_scal, df_label], axis = 1)\n",
    "print(df_preprocessed.shape)\n",
    "print(df_preprocessed.head())"
   ]
  },
  {
   "cell_type": "code",
   "execution_count": 25,
   "metadata": {},
   "outputs": [],
   "source": [
    "df_preprocessed.to_csv('../data/preprocessed_sleep.csv')"
   ]
  },
  {
   "cell_type": "code",
   "execution_count": null,
   "metadata": {},
   "outputs": [],
   "source": []
  }
 ],
 "metadata": {
  "kernelspec": {
   "display_name": "Python 3",
   "language": "python",
   "name": "python3"
  },
  "language_info": {
   "codemirror_mode": {
    "name": "ipython",
    "version": 3
   },
   "file_extension": ".py",
   "mimetype": "text/x-python",
   "name": "python",
   "nbconvert_exporter": "python",
   "pygments_lexer": "ipython3",
   "version": "3.7.3"
  }
 },
 "nbformat": 4,
 "nbformat_minor": 4
}
