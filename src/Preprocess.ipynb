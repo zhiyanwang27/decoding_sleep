{
 "cells": [
  {
   "cell_type": "code",
   "execution_count": 4,
   "metadata": {},
   "outputs": [
    {
     "name": "stderr",
     "output_type": "stream",
     "text": [
      "/opt/conda/lib/python3.7/importlib/_bootstrap.py:219: RuntimeWarning: numpy.ufunc size changed, may indicate binary incompatibility. Expected 192 from C header, got 216 from PyObject\n",
      "  return f(*args, **kwds)\n"
     ]
    }
   ],
   "source": [
    "import pandas as pd\n",
    "from matplotlib import pylab as plt\n",
    "import numpy as np \n",
    "from sklearn.preprocessing import OneHotEncoder\n",
    "from sklearn.preprocessing import StandardScaler\n",
    "from sklearn.impute import SimpleImputer\n",
    "from sklearn.preprocessing import LabelEncoder\n",
    "from sklearn.experimental import enable_iterative_imputer\n",
    "from sklearn.impute import IterativeImputer\n",
    "from sklearn.ensemble import RandomForestRegressor"
   ]
  },
  {
   "cell_type": "code",
   "execution_count": 20,
   "metadata": {},
   "outputs": [
    {
     "name": "stdout",
     "output_type": "stream",
     "text": [
      "[ 0.  1.  2.  3. -1.]\n"
     ]
    }
   ],
   "source": [
    "# read data \n",
    "df = pd.read_csv('../data/processed_sleep_fft.csv')\n",
    "#print(pd.unique(df['label']))"
   ]
  },
  {
   "cell_type": "code",
   "execution_count": 22,
   "metadata": {},
   "outputs": [
    {
     "name": "stdout",
     "output_type": "stream",
     "text": [
      "[0 1 2 3 4]\n",
      "(45441, 45)\n"
     ]
    },
    {
     "name": "stderr",
     "output_type": "stream",
     "text": [
      "/opt/conda/lib/python3.7/site-packages/sklearn/ensemble/forest.py:245: FutureWarning: The default value of n_estimators will change from 10 in version 0.20 to 100 in 0.22.\n",
      "  \"10 in version 0.20 to 100 in 0.22.\", FutureWarning)\n",
      "/opt/conda/lib/python3.7/site-packages/sklearn/ensemble/forest.py:245: FutureWarning: The default value of n_estimators will change from 10 in version 0.20 to 100 in 0.22.\n",
      "  \"10 in version 0.20 to 100 in 0.22.\", FutureWarning)\n",
      "/opt/conda/lib/python3.7/site-packages/sklearn/ensemble/forest.py:245: FutureWarning: The default value of n_estimators will change from 10 in version 0.20 to 100 in 0.22.\n",
      "  \"10 in version 0.20 to 100 in 0.22.\", FutureWarning)\n",
      "/opt/conda/lib/python3.7/site-packages/sklearn/ensemble/forest.py:245: FutureWarning: The default value of n_estimators will change from 10 in version 0.20 to 100 in 0.22.\n",
      "  \"10 in version 0.20 to 100 in 0.22.\", FutureWarning)\n"
     ]
    }
   ],
   "source": [
    "cat_ftrs = ['channel_name', 'subject', 'NAP']\n",
    "scalar_ftrs = ['alpha', 'theta', 'slowwave', 'sigma']\n",
    "ohe = OneHotEncoder(sparse = False)\n",
    "si = SimpleImputer(missing_values='0.0', strategy='constant',fill_value='missing')\n",
    "ohe_value = ohe.fit_transform(si.fit_transform(df[cat_ftrs]))\n",
    "ohe_features = ohe.get_feature_names()\n",
    "df_ohe = pd.DataFrame(ohe_value, columns = ohe_features)\n",
    "#print(df_ohe.head())\n",
    "\n",
    "scalr = StandardScaler()\n",
    "ii = IterativeImputer(estimator=RandomForestRegressor(), random_state = 100)\n",
    "scal_value = scalr.fit_transform(ii.fit_transform(df[scalar_ftrs]))\n",
    "df_scal = pd.DataFrame(scal_value, columns = scalar_ftrs)\n",
    "#print(df_scal.head())\n",
    "\n",
    "lb = LabelEncoder()\n",
    "label = lb.fit_transform(df['label'])\n",
    "print(np.unique(label))\n",
    "df_label = pd.DataFrame(label, columns = ['label'])\n",
    "\n",
    "df_preprocessed = pd.concat([df_ohe, df_scal, df_label], axis = 1)\n",
    "print(df_preprocessed.shape)\n",
    "#print(df_preprocessed.head())"
   ]
  },
  {
   "cell_type": "code",
   "execution_count": 25,
   "metadata": {},
   "outputs": [],
   "source": [
    "df_preprocessed.to_csv('../data/preprocessed_sleep.csv')"
   ]
  },
  {
   "cell_type": "code",
   "execution_count": null,
   "metadata": {},
   "outputs": [],
   "source": []
  }
 ],
 "metadata": {
  "kernelspec": {
   "display_name": "Python 3",
   "language": "python",
   "name": "python3"
  },
  "language_info": {
   "codemirror_mode": {
    "name": "ipython",
    "version": 3
   },
   "file_extension": ".py",
   "mimetype": "text/x-python",
   "name": "python",
   "nbconvert_exporter": "python",
   "pygments_lexer": "ipython3",
   "version": "3.7.3"
  }
 },
 "nbformat": 4,
 "nbformat_minor": 4
}
