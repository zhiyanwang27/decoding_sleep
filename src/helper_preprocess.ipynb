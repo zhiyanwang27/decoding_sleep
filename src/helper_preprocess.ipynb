{
 "cells": [
  {
   "cell_type": "code",
   "execution_count": 2,
   "metadata": {},
   "outputs": [],
   "source": [
    "import mne\n",
    "import numpy as np\n",
    "import matplotlib as plt\n",
    "import pandas as pd\n",
    "import os\n",
    "import scipy.io"
   ]
  },
  {
   "cell_type": "code",
   "execution_count": 9,
   "metadata": {},
   "outputs": [],
   "source": [
    "# define path\n",
    "global project_path, eeg_path, data_path, label_path, post_fix, sampling\n",
    "project_path = '/Volumes/CLPS_Watanabe_Lab/users/Zhiyan/SleepDecoding/'\n",
    "eeg_path = 'Experiment/sbj/'\n",
    "data_path = 'EEG/raw/'\n",
    "label_path = 'label/'\n",
    "post_fix = '_reref_01100.vhdr'\n",
    "subjects = ['sldcd01']\n",
    "naps = ['nap2'] #%, 'nap3']\n",
    "sampling = 500 # hz"
   ]
  },
  {
   "cell_type": "code",
   "execution_count": 10,
   "metadata": {
    "slideshow": {
     "slide_type": "-"
    }
   },
   "outputs": [],
   "source": [
    "# define the function for loading participants EEG raw data \n",
    "def load_parse_eeg(SUB, NAP):\n",
    "    fn_path = project_path +  eeg_path + SUB + '/' + NAP + '/' +  data_path + SUB + NAP + post_fix\n",
    "    raw = mne.io.read_raw_brainvision(fn_path, eog = ('HEOG', 'VEOG'), preload=True)\n",
    "    eeg_pick = raw.copy().pick_types(eeg = True, eog = True, misc = True)\n",
    "    # pick channels \n",
    "    eog_pick = raw.copy().pick_types(eeg = False, eog = True)\n",
    "    emg_pick =raw.copy().pick_types(eeg = False, eog = False, misc = True)\n",
    "    return eeg_pick, eog_pick, emg_pick"
   ]
  },
  {
   "cell_type": "code",
   "execution_count": 18,
   "metadata": {},
   "outputs": [],
   "source": [
    "# function for loading the stage label \n",
    "def load_label_raw(SUB, NAP):\n",
    "    fn_path = project_path +  eeg_path + SUB + '/' + NAP + '/' +  label_path +  'stageMat_' + SUB + '_' + NAP \n",
    "    label = scipy.io.loadmat(fn_path)\n",
    "    label = label['stageMat']\n",
    "    return label"
   ]
  },
  {
   "cell_type": "code",
   "execution_count": 20,
   "metadata": {},
   "outputs": [
    {
     "data": {
      "text/plain": [
       "(180, 4)"
      ]
     },
     "execution_count": 20,
     "metadata": {},
     "output_type": "execute_result"
    }
   ],
   "source": [
    "# label = load_label_eeg('sldcd01', 'nap2')\n",
    "# label.shape"
   ]
  },
  {
   "cell_type": "code",
   "execution_count": 23,
   "metadata": {},
   "outputs": [
    {
     "name": "stdout",
     "output_type": "stream",
     "text": [
      "      0\n",
      "0    C4\n",
      "1  TP10\n",
      "2   PO7\n",
      "3   FC2\n"
     ]
    }
   ],
   "source": [
    "# function for loading bad eeg chanels \n",
    "def load_bad_ch(SUB, NAP):\n",
    "    fn_path = project_path +  eeg_path + SUB + '/' + NAP + '/' +  label_path + SUB + '_' + NAP + '_bad' + '.txt'\n",
    "    bad = pd.read_csv(fn_path, sep=\" \", header = None)\n",
    "    return bad \n",
    "\n",
    "#bad = load_bad_ch('sldcd01', 'nap2')"
   ]
  },
  {
   "cell_type": "code",
   "execution_count": null,
   "metadata": {},
   "outputs": [],
   "source": []
  }
 ],
 "metadata": {
  "kernelspec": {
   "display_name": "mne",
   "language": "python",
   "name": "mne"
  },
  "language_info": {
   "codemirror_mode": {
    "name": "ipython",
    "version": 3
   },
   "file_extension": ".py",
   "mimetype": "text/x-python",
   "name": "python",
   "nbconvert_exporter": "python",
   "pygments_lexer": "ipython3",
   "version": "3.7.4"
  }
 },
 "nbformat": 4,
 "nbformat_minor": 2
}
